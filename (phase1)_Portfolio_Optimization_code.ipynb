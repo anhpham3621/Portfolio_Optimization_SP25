{
  "cells": [
    {
      "cell_type": "markdown",
      "metadata": {
        "id": "QPR6phHo-vEV"
      },
      "source": [
        "# Portfolio Optimization\n"
      ]
    },
    {
      "cell_type": "code",
      "execution_count": null,
      "metadata": {
        "id": "TQ_q0ACN1APM"
      },
      "outputs": [],
      "source": [
        "# license_uuid=\"46fa0cd4-c02d-437c-8da5-7bb4124f8e6f\"."
      ]
    },
    {
      "cell_type": "code",
      "execution_count": null,
      "metadata": {
        "colab": {
          "base_uri": "https://localhost:8080/",
          "height": 116,
          "referenced_widgets": [
            "47208e3643cf426cb4bdc59f2e2ed973",
            "1facdc0a3da64b72968e1f44d3544828",
            "85f2fbd4ed81438a880dee57782579f6",
            "390e5fd2fd504596828309393e3e889d",
            "a9d8191f120b45178ee65684b6036af2",
            "8d3a8cd7953d4903bec0c9fa1622633f",
            "6bf2043537bd42db9f876b93fdee66b8",
            "d44bdd37b52f4a138084cc62d412c348",
            "c0e5fbf38d6b4d4eab9f229b2ac2191d",
            "1aadb7acd88642f09d21b4365e75392c",
            "3924ad45345d4bedaf366063418e9343",
            "5bd9ce2a601143b1bafec0b4d8e0aa5f",
            "1442d653a7ec406984f0a3b45b3d152b"
          ]
        },
        "id": "3xDtAc-Fa6An",
        "outputId": "285a23f2-6009-47f3-d05b-6d47db8e48fb"
      },
      "outputs": [],
      "source": [
        "# The only 3 lines you need to install and use AMPL with any solver on Colab\n",
        "%pip install -q amplpy pandas matplotlib seaborn\n",
        "from amplpy import AMPL, ampl_notebook\n",
        "\n",
        "ampl = ampl_notebook(\n",
        "    modules=[\"gurobi\"],  # modules to install\n",
        "    license_uuid=\"your-license-uuid\",  # license to use\n",
        ")  # instantiate AMPL object and register magics"
      ]
    },
    {
      "cell_type": "code",
      "execution_count": null,
      "metadata": {
        "id": "RR0tm3z8Zz48"
      },
      "outputs": [],
      "source": [
        "import pandas as pd\n",
        "import matplotlib.pyplot as plt\n",
        "import seaborn as sns"
      ]
    },
    {
      "cell_type": "code",
      "execution_count": null,
      "metadata": {
        "id": "A9Qa7icH19Fj"
      },
      "outputs": [],
      "source": [
        "assets = df = pd.DataFrame(\n",
        "    {\n",
        "        \"Expected_return\": [0.1367, 0.00069, 0.2445, 0.1131, 0.1037, 0.2413, 0.1299, 0.2788, 0.137, -0.0485],\n",
        "        \"Risk\": [0.0823, 0.1174, 0.0232, 0.0026, 0.0467, 0.0149, 0.0417, 0.0102, 0.0139, 0.0997],\n",
        "        \"Sector\": [\"Tech\", \"Consumer Disc\", \"Tech\", \"Industrial\", \"Health\", \"Finance\", \"Consumer Disc\", \"Finance\", \"Industrial\", \"Consumer Disc\"],\n",
        "    },\n",
        "    index=[\"AMZ\", \"DIS\", \"AAPL\", \"BA\", \"UNH\", \"JPM\", \"HD\", \"GS\", \"KO\", \"NKE\"],\n",
        "  )\n"
      ]
    },
    {
      "cell_type": "markdown",
      "metadata": {
        "id": "QG-frN_FaIZj"
      },
      "source": [
        "We consider two variations of the portfolio optimization model, both using the same base dataset of assets (with expected returns and risk values) but differing in how sector constraints are handled.\n",
        "\n",
        "##Version 1: Unconstrained Sector Allocation\n",
        "\n",
        "This version places no restrictions on the minimum or maximum investment in any sector. We want to find the optimal asset allocation that minimizes risk purely based on asset-level characteristics, allowing the optimizer to freely allocate across all sectors.\n",
        "\n",
        "This serves as a baseline for comparison."
      ]
    },
    {
      "cell_type": "code",
      "execution_count": null,
      "metadata": {
        "colab": {
          "base_uri": "https://localhost:8080/"
        },
        "id": "Hh9PBbTQ74mW",
        "outputId": "3471d502-c103-483f-fb5d-fc9bd6873c60"
      },
      "outputs": [],
      "source": [
        "%%writefile portfolio1.mod\n",
        "# Portfolio Optimization - Version 1: No Sector Constraints\n",
        "\n",
        "set ASSETS;\n",
        "\n",
        "param ExpectedReturn{ASSETS};\n",
        "param Risk{ASSETS};\n",
        "param TargetReturn;\n",
        "\n",
        "var w{ASSETS} >= 0;  # No short-selling allowed\n",
        "\n",
        "# Objective: Minimize risk\n",
        "minimize TotalRisk:\n",
        "    sum {a in ASSETS} Risk[a] * w[a];\n",
        "\n",
        "# Ensure the expected return meets target\n",
        "subject to ReturnConstraint:\n",
        "    sum {a in ASSETS} ExpectedReturn[a] * w[a] >= TargetReturn;\n",
        "\n",
        "# Ensure total investment sums to 1\n",
        "subject to TotalWeight:\n",
        "    sum {a in ASSETS} w[a] = 1;\n"
      ]
    },
    {
      "cell_type": "code",
      "execution_count": null,
      "metadata": {
        "colab": {
          "base_uri": "https://localhost:8080/"
        },
        "id": "SysIGMgHb-Zl",
        "outputId": "1deb6d09-4379-4dd2-d557-817473985975"
      },
      "outputs": [],
      "source": [
        "ampl = AMPL()\n",
        "\n",
        "# Load the model without sector constraints\n",
        "ampl.read(\"portfolio1.mod\")\n",
        "\n",
        "# Load asset data\n",
        "ampl.set[\"ASSETS\"] = assets.index.tolist()\n",
        "ampl.param[\"ExpectedReturn\"] = assets[\"Expected_return\"].to_dict()\n",
        "ampl.param[\"Risk\"] = assets[\"Risk\"].to_dict()\n",
        "ampl.param[\"TargetReturn\"] = 0.20\n",
        "\n",
        "# Solve the optimization problem\n",
        "ampl.solve(solver=\"gurobi\")\n",
        "\n",
        "assert ampl.solve_result == \"solved\"\n",
        "\n",
        "# Extract the optimal weights into a DataFrame\n",
        "weights = ampl.get_variable(\"w\").to_pandas()\n",
        "print(weights)"
      ]
    },
    {
      "cell_type": "code",
      "execution_count": null,
      "metadata": {
        "colab": {
          "base_uri": "https://localhost:8080/",
          "height": 607
        },
        "id": "Bjms9GO-cO5y",
        "outputId": "721ccd85-6fda-4b8f-a7f8-bdd758af72cb"
      },
      "outputs": [],
      "source": [
        "weights = ampl.get_variable(\"w\").to_pandas()[\"w.val\"]\n",
        "\n",
        "# Create side-by-side plots\n",
        "fig, (ax1, ax2) = plt.subplots(1, 2, figsize=(12, 6))\n",
        "\n",
        "# Bar plot\n",
        "ax1.bar(weights.index, weights.values, color=\"skyblue\")\n",
        "ax1.set_title(\"Optimal Portfolio Weights\")\n",
        "ax1.set_xlabel(\"Assets\")\n",
        "ax1.set_ylabel(\"Weight\")\n",
        "ax1.tick_params(axis='x', rotation=45)\n",
        "\n",
        "# Pie chart\n",
        "ax2.pie(weights.values, labels=weights.index, autopct='%1.1f%%', startangle=90)\n",
        "ax2.set_title(\"Asset Allocation Breakdown\")\n",
        "\n",
        "plt.tight_layout()\n",
        "plt.show()"
      ]
    },
    {
      "cell_type": "markdown",
      "metadata": {
        "id": "D0UF5mGGczdc"
      },
      "source": [
        "## Version 2: Sector-Constrained Portfolio Optimization\n",
        "\n",
        "In this version, we extend the base portfolio optimization model by introducing **sector-level constraints** and **individual asset** constraints. Specifically, we impose both minimum and maximum thresholds on how much of the total portfolio can be invested in each sector. We also impose a limit on the  percentage a single asset can be alloted.\n",
        "\n",
        "By bounding sector exposure, we explore how such constraints influence the optimal asset allocation compared to the unconstrained version. The goal is to balance risk and return while ensuring no sector is overly dominant or underrepresented in the final portfolio."
      ]
    },
    {
      "cell_type": "code",
      "execution_count": null,
      "metadata": {
        "colab": {
          "base_uri": "https://localhost:8080/"
        },
        "id": "vUY9lUigdbYY",
        "outputId": "022f8fbf-f713-414e-d803-4406c15fd98d"
      },
      "outputs": [],
      "source": [
        "%%writefile portfolio2.mod\n",
        "# Portfolio Optimization - Version 2: Sector Min & Max Constraints\n",
        "\n",
        "set ASSETS;\n",
        "set SECTORS;\n",
        "\n",
        "param ExpectedReturn{ASSETS};\n",
        "param Risk{ASSETS};\n",
        "param TargetReturn;\n",
        "param Sector{ASSETS} symbolic;\n",
        "# Maximum weight for any single asset\n",
        "param MaxAssetWeight := 0.30;\n",
        "\n",
        "# Min and max weight allowed for each sector\n",
        "param MinSectorWeight{SECTORS};\n",
        "param MaxSectorWeight{SECTORS};\n",
        "\n",
        "var w{ASSETS} >= 0;  # No short-selling allowed\n",
        "\n",
        "# Objective: Minimize total portfolio risk\n",
        "minimize TotalRisk:\n",
        "    sum {a in ASSETS} Risk[a] * w[a];\n",
        "\n",
        "# Ensure portfolio meets target return\n",
        "subject to ReturnConstraint:\n",
        "    sum {a in ASSETS} ExpectedReturn[a] * w[a] >= TargetReturn;\n",
        "\n",
        "# Total weight must equal 1\n",
        "subject to TotalWeight:\n",
        "    sum {a in ASSETS} w[a] = 1;\n",
        "\n",
        "# Enforce sector-specific minimums\n",
        "subject to SectorMin {s in SECTORS}:\n",
        "    sum {a in ASSETS: Sector[a] = s} w[a] >= MinSectorWeight[s];\n",
        "\n",
        "# Enforce sector-specific maximums\n",
        "subject to SectorMax {s in SECTORS}:\n",
        "    sum {a in ASSETS: Sector[a] = s} w[a] <= MaxSectorWeight[s];\n",
        "\n",
        "# Constraint to limit the maximum weight of any single asset\n",
        "subject to MaxWeightConstraint {a in ASSETS}:\n",
        "    w[a] <= MaxAssetWeight;"
      ]
    },
    {
      "cell_type": "code",
      "execution_count": null,
      "metadata": {
        "colab": {
          "base_uri": "https://localhost:8080/"
        },
        "id": "QMinjE0Nd6OV",
        "outputId": "c04b8a71-cbae-46d7-9961-5bcffde30b60"
      },
      "outputs": [],
      "source": [
        "ampl = AMPL()\n",
        "\n",
        "ampl.read(\"portfolio2.mod\")\n",
        "\n",
        "ampl.set[\"ASSETS\"] = assets.index.tolist()\n",
        "ampl.set[\"SECTORS\"] = list(assets[\"Sector\"].unique())\n",
        "\n",
        "ampl.param[\"ExpectedReturn\"] = assets[\"Expected_return\"].to_dict()\n",
        "ampl.param[\"Risk\"] = assets[\"Risk\"].to_dict()\n",
        "ampl.param[\"TargetReturn\"] = 0.20           # 20% return\n",
        "ampl.param[\"Sector\"] = {k: str(v) for k, v in assets[\"Sector\"].items()}\n",
        "\n",
        "\n",
        "sector_list = assets[\"Sector\"].unique()\n",
        "min_weights = {sector: 0.10 for sector in sector_list}  # 10% minimum per sector\n",
        "max_weights = {sector: 0.50 for sector in sector_list}  # 50% maximum per sector\n",
        "\n",
        "ampl.param[\"MinSectorWeight\"] = min_weights\n",
        "ampl.param[\"MaxSectorWeight\"] = max_weights\n",
        "\n",
        "\n",
        "ampl.solve(solver=\"gurobi\")\n",
        "assert ampl.solve_result == \"solved\"\n",
        "\n",
        "# Extract weights\n",
        "weights = ampl.get_variable(\"w\").to_pandas()\n",
        "print(weights)"
      ]
    },
    {
      "cell_type": "code",
      "execution_count": null,
      "metadata": {
        "colab": {
          "base_uri": "https://localhost:8080/",
          "height": 607
        },
        "id": "cQm0JFmNel2D",
        "outputId": "5b97f4d1-377c-494f-cdcc-aa5a86c16d9e"
      },
      "outputs": [],
      "source": [
        "weights = ampl.get_variable(\"w\").to_pandas()[\"w.val\"]\n",
        "\n",
        "# Create side-by-side plots\n",
        "fig, (ax1, ax2) = plt.subplots(1, 2, figsize=(12, 6))\n",
        "\n",
        "# Bar plot\n",
        "ax1.bar(weights.index, weights.values, color=\"skyblue\")\n",
        "ax1.set_title(\"Optimal Portfolio Weights\")\n",
        "ax1.set_xlabel(\"Assets\")\n",
        "ax1.set_ylabel(\"Weight\")\n",
        "ax1.tick_params(axis='x', rotation=45)\n",
        "\n",
        "# Pie chart\n",
        "ax2.pie(weights.values, labels=weights.index, autopct='%1.1f%%', startangle=90)\n",
        "ax2.set_title(\"Asset Allocation Breakdown\")\n",
        "\n",
        "plt.tight_layout()\n",
        "plt.show()"
      ]
    },
    {
      "cell_type": "markdown",
      "metadata": {
        "id": "LgHKGE6OgRyc"
      },
      "source": [
        "### Sector Allotment Visualization"
      ]
    },
    {
      "cell_type": "code",
      "execution_count": null,
      "metadata": {
        "id": "e8NfCP0KfLxx"
      },
      "outputs": [],
      "source": [
        "weights_df = weights.rename(\"Weight\")\n",
        "\n",
        "# Add a 'Sector' column using the original assets DataFrame\n",
        "weights_df = pd.DataFrame(weights_df)\n",
        "weights_df[\"Sector\"] = assets.loc[weights_df.index, \"Sector\"] # Extract sector info\n",
        "\n",
        "# Calculate total weight per sector\n",
        "sector_weights = weights_df.groupby(\"Sector\")[\"Weight\"].sum()"
      ]
    },
    {
      "cell_type": "code",
      "execution_count": null,
      "metadata": {
        "colab": {
          "base_uri": "https://localhost:8080/",
          "height": 642
        },
        "id": "f7snvH1jfa8D",
        "outputId": "7b5fd189-7e8e-4622-feaa-94a69d9d0930"
      },
      "outputs": [],
      "source": [
        "fig, (ax1, ax2) = plt.subplots(1, 2, figsize=(12, 6))\n",
        "\n",
        "# Bar plot on the left (ax1)\n",
        "sns.barplot(x=sector_weights.index, y=sector_weights.values, ax=ax1)\n",
        "ax1.set_title(\"Sector Weights in Portfolio\")\n",
        "ax1.set_xlabel(\"Sector\")\n",
        "ax1.set_ylabel(\"Weight\")\n",
        "ax1.set_xticklabels(ax1.get_xticklabels(), rotation=45, ha=\"right\")\n",
        "\n",
        "# Pie chart on the right (ax2)\n",
        "ax2.pie(sector_weights.values, labels=sector_weights.index, autopct='%1.1f%%', startangle=90)\n",
        "ax2.set_title(\"Sector Allocation Breakdown\")\n",
        "\n",
        "\n",
        "plt.tight_layout()\n",
        "plt.show()"
      ]
    },
    {
      "cell_type": "code",
      "execution_count": null,
      "metadata": {
        "colab": {
          "base_uri": "https://localhost:8080/",
          "height": 507
        },
        "id": "RmZDV8U0QubI",
        "outputId": "270b36be-2997-46c0-dffe-e0816371a64f"
      },
      "outputs": [],
      "source": [
        "weights_sorted = weights.sort_index() # Sort by assets\n",
        "\n",
        "weights_sorted = weights_sorted.to_frame(name='Weight') # Convert to dataframe\n",
        "weights_sorted['Sector'] = assets.loc[weights_sorted.index, \"Sector\"]\n",
        "\n",
        "# Add 'Risk' and 'ExpectedReturn' columns to weights_sorted\n",
        "weights_sorted['Risk'] = assets.loc[weights_sorted.index, \"Risk\"]\n",
        "weights_sorted['ExpectedReturn'] = assets.loc[weights_sorted.index, \"Expected_return\"]\n",
        "weights_sorted = weights_sorted.sort_values(by=['Sector'])\n",
        "\n",
        "\n",
        "df_weights = weights_sorted[[\"Weight\"]].T\n",
        "df_weights.columns = weights_sorted.index\n",
        "\n",
        "#  Get sector info and encode as numeric\n",
        "sectors_sorted = weights_sorted[\"Sector\"]\n",
        "unique_sectors = sectors_sorted.unique()\n",
        "sector_to_color_idx = {sector: i for i, sector in enumerate(unique_sectors)}\n",
        "sector_numeric = sectors_sorted.map(sector_to_color_idx)  # numeric codes for cmap\n",
        "\n",
        "# Plot\n",
        "fig = plt.figure(figsize=(14, 5))\n",
        "gs = fig.add_gridspec(ncols=3, nrows=2, width_ratios=[10, 2.5, 2.5], height_ratios=[0.4, 4])\n",
        "\n",
        "ax_sector = fig.add_subplot(gs[0, 0])      # top sector color bar\n",
        "ax_heatmap = fig.add_subplot(gs[1, 0])     # main heatmap\n",
        "ax_risk = fig.add_subplot(gs[1, 1])\n",
        "ax_return = fig.add_subplot(gs[1, 2])\n",
        "\n",
        "# --- Sector Color Bar ---\n",
        "# 2D array with shape (1, num_assets), values = numeric codes\n",
        "sns.heatmap([sector_numeric.values], ax=ax_sector, cmap=\"tab10\", cbar=False,\n",
        "            xticklabels=weights_sorted.index, yticklabels=False)\n",
        "ax_sector.set_xticklabels(sectors_sorted, rotation=90, fontsize=9)\n",
        "ax_sector.set_title(\"Sectors\", fontsize=12)\n",
        "ax_sector.tick_params(left=False)\n",
        "\n",
        "# --- Portfolio Weights Heatmap ---\n",
        "sns.heatmap(df_weights, ax=ax_heatmap, annot=True, fmt=\".2f\", cmap=\"YlGnBu\", cbar=False,\n",
        "            linewidths=0.5, linecolor=\"black\")\n",
        "ax_heatmap.set_title(\"Portfolio Weights (Grouped by Sector)\")\n",
        "ax_heatmap.set_xlabel(\"Assets\")\n",
        "ax_heatmap.set_ylabel(\"\")\n",
        "\n",
        "# --- Risk Plot ---\n",
        "ax_risk.plot(weights_sorted[\"Risk\"], weights_sorted.index, marker='o', linestyle='-', color='blue')\n",
        "ax_risk.set_title(\"Risk\")\n",
        "ax_risk.set_xlabel(\"Risk\")\n",
        "ax_risk.set_ylabel(\"\")\n",
        "ax_risk.invert_yaxis()\n",
        "\n",
        "# --- Expected Return Plot ---\n",
        "ax_return.plot(weights_sorted[\"ExpectedReturn\"], weights_sorted.index, marker='o', linestyle='-', color='green')\n",
        "ax_return.set_title(\"Expected Return\")\n",
        "ax_return.set_xlabel(\"Return\")\n",
        "ax_return.set_ylabel(\"\")\n",
        "ax_return.invert_yaxis()\n",
        "\n",
        "plt.tight_layout()\n",
        "plt.show()"
      ]
    }
  ],
  "metadata": {
    "colab": {
      "provenance": []
    },
    "kernelspec": {
      "display_name": "Python 3",
      "language": "python",
      "name": "python3"
    },
    "language_info": {
      "codemirror_mode": {
        "name": "ipython",
        "version": 3
      },
      "file_extension": ".py",
      "mimetype": "text/x-python",
      "name": "python",
      "nbconvert_exporter": "python",
      "pygments_lexer": "ipython3",
      "version": "3.6.9"
    },
    "vscode": {
      "interpreter": {
        "hash": "ee4198aac13dae9b6fccd443041680d99c2643c4956ef7c80ff6dcc0057cb523"
      }
    }
  },
  "nbformat": 4,
  "nbformat_minor": 0
}
